{
 "cells": [
  {
   "cell_type": "markdown",
   "id": "2ce847ab-6fdf-4af7-ab1b-9f8e2601c99f",
   "metadata": {},
   "source": [
    "# Tools for Data Pipeline Automation"
   ]
  },
  {
   "cell_type": "markdown",
   "id": "4148230e-ddad-4b1e-b7d2-bf81612f6bd7",
   "metadata": {},
   "source": [
    "Our Team uses a variety of tools to automate data pipelines. This document will cover four main tools: Git Bash, Github Desktop, Miniconda, Task Scheduler and how these programs are used together to manage virtual environments and version control and automate data pipelines. "
   ]
  },
  {
   "cell_type": "markdown",
   "id": "f819f270-f542-4cbe-a9c2-e11edb583386",
   "metadata": {
    "tags": []
   },
   "source": [
    "# Table of Contents\n",
    "\n",
    "1. <a href=\"#Git-Bash\">Git Bash</a>  \n",
    "    1.a. <a href=\"#How-to-Install-Git-and-Bash\">How to Install Git and Bash</a>  \n",
    "    2.a. <a href=\"#How-to-Install-Github-Desktop\">How to Install Github Desktop</a>  \n",
    "    3.a. <a href=\"#Github-Repositories\">Github Repositories</a>  \n",
    "2. <a href=\"#Miniconda\">Miniconda</a>  \n",
    "    2.a. <a href=\"#How-to-Install-Miniconda\">How to Install Miniconda</a>  \n",
    "    2.b. <a href=\"#How-to-Create-a-Conda-Virtual-Environment\">How to Create a Conda Virtual Environment</a>\n",
    "3. <a href=\"#Running-Code-Within-an-Environment\">Running Code Within an Environment</a>  \n",
    "    3.a. <a href=\"#Use-a-Batch-File-to-Run-Code-in-an-Environment\">Use a Batch File to Run Code in an Environment</a>  \n",
    "5. <a href=\"#Appendix\">Appendix</a>  \n",
    "    5.a. <a href=\"#Jupyter-Lab\">Jupyter Lab</a>  \n",
    "  "
   ]
  },
  {
   "cell_type": "markdown",
   "id": "9b92739e-dadf-47cc-96a1-b30bb4098367",
   "metadata": {
    "tags": []
   },
   "source": [
    "# Git Bash"
   ]
  },
  {
   "cell_type": "markdown",
   "id": "1df3ecd7-1ba9-4ae8-a0a6-589e48c84cef",
   "metadata": {},
   "source": [
    "Git Bash is a Unix shell emulator that allows a user to execute bash commands in a windows environment as if it were a linux machine. In addition, Git Bash provides git command line experience in the windows operating system. For example, a repository can be cloned by simply typing “git clone url_to_github” in the shell prompt. For more information, follow [this link](https://www.geeksforgeeks.org/working-on-git-bash/)."
   ]
  },
  {
   "cell_type": "markdown",
   "id": "cfa67103-eabf-4b56-8963-fe9f464f99ad",
   "metadata": {
    "tags": []
   },
   "source": [
    "## How to Install Git and Bash"
   ]
  },
  {
   "cell_type": "markdown",
   "id": "d5da71d3-9054-41cd-9a11-da8511b77539",
   "metadata": {},
   "source": [
    "Please follow the directions [here for installing Git Bash on Windows.](https://www.makeuseof.com/install-git-git-bash-windows/)"
   ]
  },
  {
   "cell_type": "markdown",
   "id": "7692bfe3-7f6f-4077-a06b-ab37b1a27cdf",
   "metadata": {},
   "source": [
    "## How to Install Github Desktop"
   ]
  },
  {
   "cell_type": "markdown",
   "id": "6bff6439-609d-4532-aa45-01e5bdd67bd6",
   "metadata": {},
   "source": [
    "If your machine does not already have Github Desktop, [please follow these directions to install it](https://docs.github.com/en/desktop/installing-and-authenticating-to-github-desktop/installing-github-desktop). "
   ]
  },
  {
   "cell_type": "markdown",
   "id": "55cbc639-74a9-4f1f-92e8-34abd40ba624",
   "metadata": {
    "tags": []
   },
   "source": [
    "## Github Repositories"
   ]
  },
  {
   "cell_type": "markdown",
   "id": "dc7fd8ab-f2c3-4f4a-8a2e-3610d58be766",
   "metadata": {},
   "source": [
    "A Github repository is a place where you can store your code, files, and each file's revision history on the Github cloud. Repositories can have multiple collaborators and can be either public or private.\n",
    "\n",
    "Copies of Github repositories can be pulled from Github onto your local machine (local repository). You can edit and add changes to your local repository and then push your changes back to the Github cloud (remote repository). Other collaborators can then pull the latest version of the remote repository to add their changes. "
   ]
  },
  {
   "cell_type": "markdown",
   "id": "3ffa8f4c-36e7-4cc7-bed6-f2759d7c8ec4",
   "metadata": {},
   "source": [
    "```{figure} onboarding_guide_1.png\n",
    ":name: beach\n",
    ":align: left\n",
    ":width: 90%\n",
    "Relaxing at the beach 🏖\n",
    "```"
   ]
  },
  {
   "cell_type": "code",
   "execution_count": 4,
   "id": "bcd7c443-8871-47e9-bab2-6bf5aac72322",
   "metadata": {},
   "outputs": [
    {
     "data": {
      "text/html": [
       "<img src=\"onboarding_guide_1.png\" width=\"200\" height=\"200\"/>"
      ],
      "text/plain": [
       "<IPython.core.display.Image object>"
      ]
     },
     "execution_count": 4,
     "metadata": {},
     "output_type": "execute_result"
    }
   ],
   "source": [
    "from IPython.display import Image\n",
    "from IPython.core.display import HTML \n",
    "Image(url= \"onboarding_guide_1.png\", width = 200, height = 200)"
   ]
  },
  {
   "cell_type": "code",
   "execution_count": 5,
   "id": "07a96a4e-b728-4860-9540-da8bdacbc877",
   "metadata": {},
   "outputs": [],
   "source": [
    "%matplotlib inline"
   ]
  },
  {
   "cell_type": "markdown",
   "id": "08825ad2-75e1-49ce-8208-31a5aa54b0ce",
   "metadata": {},
   "source": [
    "# standard Markdown\n",
    "\n",
    "\n",
    "![architecture](onboarding_guide_1.png)"
   ]
  },
  {
   "cell_type": "markdown",
   "id": "f63c312c-0ca4-459c-8d43-681e36bc0a3b",
   "metadata": {},
   "source": [
    "#html rendoring as markdown - what the difference from above?\n",
    "\n",
    "<img src=\"onboarding_guide_1.png\" width=700/>"
   ]
  },
  {
   "cell_type": "markdown",
   "id": "56941ec0-a422-4e77-85bd-f5874965edd3",
   "metadata": {},
   "source": [
    "<div class=\"image-wrapper\">\n",
    "  <img src=\"files/onboarding_guide_1.png\">\n",
    "</div>"
   ]
  },
  {
   "cell_type": "markdown",
   "id": "68087a99-30ce-47ff-b55f-4a5eda36e542",
   "metadata": {},
   "source": [
    "<img src=\"onboarding_guide_1.png\" width=700/>"
   ]
  },
  {
   "cell_type": "code",
   "execution_count": null,
   "id": "c99c7651-37f0-44a5-b9f4-ccb819634170",
   "metadata": {},
   "outputs": [],
   "source": []
  },
  {
   "cell_type": "markdown",
   "id": "f449dc15-fdfe-4f5c-939f-08061a7cc017",
   "metadata": {},
   "source": [
    "### Add a Local Repository to Github"
   ]
  },
  {
   "cell_type": "code",
   "execution_count": 3,
   "id": "5d1ab904-0028-4f8a-9def-3f1d7100460b",
   "metadata": {},
   "outputs": [
    {
     "ename": "ModuleNotFoundError",
     "evalue": "No module named 'Markdown'",
     "output_type": "error",
     "traceback": [
      "\u001b[1;31m---------------------------------------------------------------------------\u001b[0m",
      "\u001b[1;31mModuleNotFoundError\u001b[0m                       Traceback (most recent call last)",
      "\u001b[1;32m~\\AppData\\Local\\Temp\\ipykernel_17480\\357331494.py\u001b[0m in \u001b[0;36m<module>\u001b[1;34m\u001b[0m\n\u001b[1;32m----> 1\u001b[1;33m \u001b[1;32mimport\u001b[0m \u001b[0mMarkdown\u001b[0m\u001b[1;33m\u001b[0m\u001b[1;33m\u001b[0m\u001b[0m\n\u001b[0m",
      "\u001b[1;31mModuleNotFoundError\u001b[0m: No module named 'Markdown'"
     ]
    }
   ],
   "source": [
    "import Markdown"
   ]
  },
  {
   "cell_type": "markdown",
   "id": "db93e6aa-1a6c-4b5d-b45d-09efda5c6982",
   "metadata": {},
   "source": [
    "using Markdown\n",
    "    ('<img src=\"onboarding_guide_1.png\" style=\"height: 300px;\"/>'))"
   ]
  },
  {
   "cell_type": "markdown",
   "id": "e4473bf8-b2f4-4b86-8fbe-acf6c268a3c5",
   "metadata": {},
   "source": [
    "Follow these [directions](https://docs.github.com/en/enterprise-server@3.6/desktop/adding-and-cloning-repositories/adding-a-repository-from-your-local-computer-to-github-desktop) if you already have files on your local machine that you would like to turn into a Github Repository.\n",
    "\n",
    "First ensure all the files you want to add as a repository are all in the same folder. Use a file path for your local repository that will be easy to replicate across all team members to avoid code breaking due to differing file paths among repository collaborators. We recommend storing local repositories in the following location: `\"C:\\Users\\[USER NAME]\\GitHub\\[REPOSITORY NAME]\"`"
   ]
  },
  {
   "cell_type": "markdown",
   "id": "5ed6d0a2-e215-4a8d-9d64-53374d0ce76c",
   "metadata": {},
   "source": [
    "### Clone a Repository from Github"
   ]
  },
  {
   "cell_type": "markdown",
   "id": "5b31c023-282b-4231-b7a0-f5fbec854755",
   "metadata": {},
   "source": [
    "Follow these [directions](https://docs.github.com/en/desktop/adding-and-cloning-repositories/cloning-and-forking-repositories-from-github-desktop#cloning-a-repository) if there is an existing remote Github repository that you would like to copy (or clone) to your local machine. \n",
    "\n",
    "Whenever you want to collaborate on a Github repo you must 'map' the remote repository to the local repository on your machine through cloning. Use a file path for your local repository that will be easy to replicate across all team members to avoid code breaking due to differing file paths among repository collaborators. We recommend storing local repositories in the following location: `\"C:\\Users\\[USER NAME]\\GitHub\\[REPOSITORY NAME]\"`"
   ]
  },
  {
   "cell_type": "markdown",
   "id": "5fb4a6a7-bfac-465b-b34e-48c685a02115",
   "metadata": {},
   "source": [
    "# Miniconda"
   ]
  },
  {
   "cell_type": "markdown",
   "id": "da84c5a1-3797-472a-9660-8623d6ad180d",
   "metadata": {
    "tags": []
   },
   "source": [
    "## How to Install Miniconda"
   ]
  },
  {
   "cell_type": "markdown",
   "id": "6cb06126-8201-411c-9e26-73f29fa74dd0",
   "metadata": {
    "tags": []
   },
   "source": [
    "1. Navigate to [this link](https://docs.conda.io/projects/miniconda/en/latest/) and select the windows 64 bit installation.\n",
    "2. You should see a Welcome to Miniconda3 popup - select next until you reach the \"Chose Install Location\" window. \n",
    "    - In accordance with legacy storage of miniconda on the team you should change the destination folder to C:\\Users\\ [username] \\Miniconda3 \n",
    "        - Make sure the M is capitalized in Miniconda3. This will be important for running legacy code.  \n",
    "        <img src=\"files/onboarding_guide_2.png\" width=500/>\n",
    "2. On the next page select the second checkbox and press 'install'. <br>  \n",
    "    <img src=\"files/onboarding_guide_3.png\" width=500/>"
   ]
  },
  {
   "cell_type": "markdown",
   "id": "babbb0ae-5b0a-4fe1-8c14-8fbadddb842d",
   "metadata": {},
   "source": [
    "<img src=\"files/onboarding_guide_3.png\" width=500/>"
   ]
  },
  {
   "cell_type": "markdown",
   "id": "7b642c68-0e4e-45aa-bc5e-988ce0b787e0",
   "metadata": {
    "tags": []
   },
   "source": [
    "## How to Create a Conda Virtual Environment"
   ]
  },
  {
   "cell_type": "markdown",
   "id": "10a58464-11d1-4116-a376-0c744fc46e63",
   "metadata": {},
   "source": [
    "Virtual environments in Python and R store specified versions of modules and packages needed to run a particular program. By using virtual environments, you can \"freeze\" the packages you need in time so that even if packages are updated it will not affect your program. Miniconda is a program that helps to store packages and utilize environments in R and Python. "
   ]
  },
  {
   "cell_type": "markdown",
   "id": "d45098ce-6ce9-4adf-8ccc-97e0f2cf2307",
   "metadata": {
    "tags": []
   },
   "source": [
    "### Create a YAML file "
   ]
  },
  {
   "cell_type": "markdown",
   "id": "bdefd86e-6ab5-4986-9966-f2e52848088b",
   "metadata": {},
   "source": [
    "YAML files can be used to define virtual environment specifications. You can create a YAML file using any text editor. Upon saving, add the .yml extension. "
   ]
  },
  {
   "cell_type": "markdown",
   "id": "8e926784-e0de-4836-b443-85ab12a87aa8",
   "metadata": {
    "tags": []
   },
   "source": [
    "#### Example 1: R virtual environment"
   ]
  },
  {
   "cell_type": "raw",
   "id": "41afc074-f42b-4d40-b14e-0894f08d5bb5",
   "metadata": {},
   "source": [
    "name: Rtransform23\n",
    "\n",
    "channels:\n",
    " - `conda-forge\n",
    "  \n",
    "dependencies:\n",
    "  - r-dplyr\n",
    "  - r-lubridate\n",
    "  - r-jsonlite\n",
    "  - r-blastula\n",
    "  - r-base\n",
    "  - r-irkernel\n",
    "  - r-redcapr = 1.1\n",
    "  - r-trycatchlog\n",
    "  - r-futile.logger"
   ]
  },
  {
   "cell_type": "markdown",
   "id": "b6a792a9-8994-4b9a-a95b-3ca356b5799f",
   "metadata": {},
   "source": [
    "This environment will have all the R packages listed under `dependencies` and will use the `conda-forge` channel to download the R packages. \n",
    "\n",
    "*Read [here](https://docs.conda.io/projects/conda/en/latest/user-guide/concepts/channels.html#what-is-a-conda-channel) for more information on Conda Channels. See which packages/modules are available on which conda channels [here.](https://anaconda.org/anaconda/repo)*"
   ]
  },
  {
   "cell_type": "markdown",
   "id": "ba3e7780-1cf0-4c27-84b7-ae9767cf490a",
   "metadata": {},
   "source": [
    "#### Example 2: Python virtual environment"
   ]
  },
  {
   "cell_type": "raw",
   "id": "a48004e8-3058-4e51-b830-5a9c30d6fb13",
   "metadata": {
    "tags": []
   },
   "source": [
    "name: transform22\n",
    "# Alexey Gilman, 04/18/2021\n",
    "# Environment for DOH data transformations\n",
    "\n",
    "\n",
    "channels:\n",
    "  - defaults\n",
    "dependencies:\n",
    "  - python=3.9*\n",
    "  - pandas=1.4*\n",
    "  - openpyxl=3.0*\n",
    "  - hvplot=0.7*\n",
    "  - pyodbc=4.0*\n",
    "  - requests=2.25*\n",
    "  - matplotlib=3.3*\n",
    "  - pip:\n",
    "      - PyCap == 2.*"
   ]
  },
  {
   "cell_type": "markdown",
   "id": "3f16d938-38b2-46c9-9fa8-260baf9f97e7",
   "metadata": {},
   "source": [
    "This environment will have all the Python modules listed under `dependencies` and will use the default channel to download the Python modules. It will use Python version 3.9.\n",
    "\n",
    "For more information and creating YAML files, see [how to create a virtual environment .yml file manually](https://conda.io/projects/conda/en/latest/user-guide/tasks/manage-environments.html#creating-an-environment-file-manually)."
   ]
  },
  {
   "cell_type": "markdown",
   "id": "df7f9fa9-67a4-46a6-8285-fd5b3be21fb6",
   "metadata": {},
   "source": [
    "### Create a Virtual Environment From a YAML file"
   ]
  },
  {
   "cell_type": "markdown",
   "id": "d9dc9df4-0f26-4821-a861-da73447627a3",
   "metadata": {},
   "source": [
    "In this example, we will use the Git Bash terminal to manage virtual conda environments."
   ]
  },
  {
   "cell_type": "markdown",
   "id": "1e5d10d8-35e8-48e4-b7d2-f0fe34a7e258",
   "metadata": {},
   "source": [
    "<img src=\"files/onboarding_guide_4.png\" width=500/>\n",
    "**In GitBash:**\n",
    "\n",
    "1. Save the .yml file to your directory of choice and then navigate to that directory using the command `cd [file path]`\n",
    "\n",
    "2. Create the environment from the `environment.yml` file:  \n",
    "`conda env create -f environment.yml`\n",
    "\n",
    "3. Acitvate the new environment:  \n",
    "`conda activate myenv`\n",
    "\n",
    "4. Verify the new environment was installed:  \n",
    "`conda env list`\n",
    "\n",
    "<img src=\"files/onboarding_guide_5.png\" width=500/>  \n",
    "\n",
    "* The asterisk next to the transform22 environment in the list of environments indicates that it is the active environment   \n",
    "* The environment will take the same name as the .yml file"
   ]
  },
  {
   "cell_type": "markdown",
   "id": "de7c2237-1191-4ce9-9654-dfa756f89231",
   "metadata": {},
   "source": [
    "# Running Code Within an Environment"
   ]
  },
  {
   "cell_type": "markdown",
   "id": "5391ac28-24b2-4d8b-9e40-81f6294a63b6",
   "metadata": {
    "tags": []
   },
   "source": [
    "## Use a Batch File to Run Code in an Environment"
   ]
  },
  {
   "cell_type": "markdown",
   "id": "80cf277c-bbf4-4628-857c-b63e6c00f368",
   "metadata": {},
   "source": [
    "### Create a batch file"
   ]
  },
  {
   "cell_type": "markdown",
   "id": "2d747ca2-5bf4-4239-992d-41c28d4af484",
   "metadata": {},
   "source": [
    "Batch files will allow you to activate an environment and run code within one file. To run a batch file open any text editor and using the examples below add your directory information, environment name and file name. Then save the file using the .bat extension."
   ]
  },
  {
   "cell_type": "markdown",
   "id": "1643c70b-6591-4440-87bb-f8c51e3c9a28",
   "metadata": {},
   "source": [
    "**Example 1: Batch file to run a Python program**"
   ]
  },
  {
   "cell_type": "raw",
   "id": "d357cc52-6e5e-44f2-8ece-e198b96793b8",
   "metadata": {},
   "source": [
    "call C :\\Users\\%USERNAME%\\Miniconda3\\Scripts\\activate.bat\n",
    "call activate transform22\n",
    "python C:\\Users\\%USERNAME%\\GitHub\\redcap_api_test\\daily_api_test.py\n",
    "call conda deactivate"
   ]
  },
  {
   "cell_type": "markdown",
   "id": "fcc7fcb3-2978-4aeb-b006-27fec66f6d65",
   "metadata": {},
   "source": [
    "Line one is where your activate.bat file is stored. This file is automatically added during Miniconda installation and should be in the same location as this example.  \n",
    "Line two activates the 'transform22' environment. Replace with the name of your desired environment.  \n",
    "Line three calls the python file to be ran. Replace with the file path to your python file.  \n",
    "Line four will then deactivate the environment after the code has run. "
   ]
  },
  {
   "cell_type": "markdown",
   "id": "a2c3c60e-7bec-473e-9f78-7d43e16fc66c",
   "metadata": {},
   "source": [
    "**Example 2: Batch file to run an R program**"
   ]
  },
  {
   "cell_type": "raw",
   "id": "2a8e1226-0cf9-4e64-9cc5-acc476899d96",
   "metadata": {},
   "source": [
    "call C:\\Users\\%USERNAME%\\Miniconda3\\Scripts\\activate.bat\n",
    "call activate Rtransform23\n",
    "Rscript -e \"options(keep.source = TRUE); source('C:/Users/%USERNAME%/GitHub/redcap_api_test/daily_api_test_r.R')\" \n",
    "call conda deactivate"
   ]
  },
  {
   "cell_type": "markdown",
   "id": "47cf9636-2c33-47d4-89bd-89239f8036cd",
   "metadata": {},
   "source": [
    "Line one is where your activate.bat file is stored. This file is automatically added during Miniconda installation and should be in the same location as this example.  \n",
    "Line two activates the 'Rtransform23' environment. Replace with the name of your desired environment.  \n",
    "Line three calls the R file to be ran. Replace with the file path to your R file.  \n",
    "Line four will then deactivate the environment after the code has run. "
   ]
  },
  {
   "cell_type": "markdown",
   "id": "768a6165-5ff6-46f6-ba24-ec01d4ef5a83",
   "metadata": {},
   "source": [
    "### How to run your batch file"
   ]
  },
  {
   "cell_type": "markdown",
   "id": "00e87d78-0ff0-4cf8-bcd0-cc6fed0ea525",
   "metadata": {},
   "source": [
    "**Using The Gitbash terminal**"
   ]
  },
  {
   "cell_type": "markdown",
   "id": "f72faad3-ba0d-4488-a3dd-d845ea4c7147",
   "metadata": {},
   "source": [
    "Although simply double clicking the batch file will run it, we recommend running it from within your Gitbash terminal as this will allow you to see output and error messages when running the code. \n",
    "\n",
    "1. Navigate to the directory containing your batch file:  \n",
    "`cd [filepath]`  \n",
    "\n",
    "2. Run your batch file:  \n",
    "`./[batch file name].bat`"
   ]
  },
  {
   "cell_type": "markdown",
   "id": "81446364-d82b-4eeb-a54c-df7403dd7e7e",
   "metadata": {},
   "source": [
    "### Use Task Scheduler to Run Your Batch File Automatically"
   ]
  },
  {
   "cell_type": "markdown",
   "id": "758146eb-3821-4ac9-a1f0-2abe140eb00e",
   "metadata": {},
   "source": [
    "1. Open windows task scheduler. Under the 'Action' menu select 'Create Task'.<br></p>  \n",
    "<img src=\"files/onboarding_guide_6.png\" width=300/>  \n",
    "2. In the task popup, enter a name for the job and select the check box for 'Run with hightest privileges'.<br></p>    \n",
    "<img src=\"files/onboarding_guide_7.png\" width=500/> \n",
    "3. Under 'Triggers', set the desired time and frequency for running the job.<br></p>\n",
    "<img src=\"files/onboarding_guide_8.png\" width=500/>\n",
    "4. Under 'Actions', add the path to the batch file or script for the task to run. In the 'Start in' box, add the path to the parent folder where the script is stored (excluding the actual file name). Leave the final backslash.<br></p>\n",
    "<img src=\"files/onboarding_guide_9.png\" width=500/>\n",
    "5. Close windows task scheduler. "
   ]
  },
  {
   "cell_type": "markdown",
   "id": "abfec1bd-2727-4009-b293-39b8ffda635b",
   "metadata": {
    "tags": []
   },
   "source": [
    "# Appendix"
   ]
  },
  {
   "cell_type": "markdown",
   "id": "0cb7bc38-4ae9-4f25-abb9-ea440b738ed0",
   "metadata": {},
   "source": [
    "## Jupyter Lab"
   ]
  },
  {
   "cell_type": "markdown",
   "id": "4f079428-62b7-4d66-853f-9c2ea89ff8f5",
   "metadata": {},
   "source": [
    "Jupyter Lab is a useful tool for editing and running both R and Python Code. Although not required for automating data pipelines, it is a great way to run code within various Conda environments. "
   ]
  },
  {
   "cell_type": "markdown",
   "id": "7008a123-a971-40d5-a633-98a620629b45",
   "metadata": {},
   "source": [
    "### Launch Jupyter Lab Within an Environment"
   ]
  },
  {
   "cell_type": "markdown",
   "id": "bc212943-731e-4306-b0f6-bedabf8014bd",
   "metadata": {},
   "source": [
    "**Option 1: In GitBash**\n",
    "\n",
    "1. Acitvate the new environment:  \n",
    "`conda activate myenv`  \n",
    "\n",
    "2. Manually install jupyter into your new environment. This is required to launch jupyter lab from that environment:  \n",
    "`conda install jupyter`\n",
    "\n",
    "3. Navigate to your directory that has the python files you want to work in:  \n",
    "ex. `cd C:/Users/ekp0303/Github/redcap_api_test`  \n",
    "<img src=\"files/onboarding_guide_14.png\" width=500/> <br>\n",
    "    *In this example \"(Caitlin_edits)\" is the current Git branch you are in for that repo*  \n",
    "\n",
    "4. Launch Jupyter Lab:  \n",
    "`jupyter lab`"
   ]
  },
  {
   "cell_type": "markdown",
   "id": "50c987f0-6ddb-4871-a8a6-76476b0c617d",
   "metadata": {},
   "source": [
    "**Option 2: In the anaconda navigator**  \n",
    "\n",
    "1. Open Conda navigator (automatically downloaded with miniconda).  \n",
    "\n",
    "2. Select the environment you want in the top left drop down menu.  \n",
    "\n",
    "3. Launch Jupyter lab. *If Jupyter labs is not installed yet on the environment you selected, the button will say \"install\" instead of \"launch\". Install Jupyter lab, then launch it.*  \n",
    "\n",
    "<img src=\"files/onboarding_guide_10.png\" width=900/>"
   ]
  },
  {
   "cell_type": "markdown",
   "id": "8961ca3e-a39a-43b7-a7c0-47f13dd2304c",
   "metadata": {},
   "source": [
    "### Use multiple environments within one Jupyter lab instance"
   ]
  },
  {
   "cell_type": "markdown",
   "id": "f9a5123c-e4b6-460f-9e20-829272314d7c",
   "metadata": {
    "tags": []
   },
   "source": [
    "* The `nb_conda_kernels` module allows you to select what environment you want to run your kernel in from within Jupyter labs. [Read the documentation here.](https://github.com/Anaconda-Platform/nb_conda_kernels)\n",
    "* You must launch Jupyter labs from gitbash to use `nb_conda_kernel` features\n",
    "\n",
    "**In GitBash**\n",
    "\n",
    "1. In Gitbash install nb_conda_kernels from within your 'base' environment:   \n",
    "`conda activate base`  \n",
    "`conda install nb_conda_kernels`\n",
    "\n",
    "2. Navigate to your directory that has the python files you want to work in:  \n",
    "ex. `cd C:/Users/ekp0303/Github/redcap_api_test`  \n",
    "\n",
    "3. Launch Jupyter Lab:  \n",
    "`jupyter lab`. *You should now see a kernel for each environment.*<br></p>  \n",
    "<img src=\"files/onboarding_guide_11.png\" width=600/>\n",
    "\n",
    "4. If you want to run a file with a certain environment, open the program you want to run. From within the program, right click and select \"Create Console for Editor\".\n",
    "<img src=\"files/onboarding_guide_12.png\" width=700/>  \n",
    "\n",
    "5. Select the kernel in the environment you want.\n",
    "<img src=\"files/onboarding_guide_13.png\" width=700/>\n",
    "\n",
    "6. If an environment is not showing in jupyter labs, activate that environment in gitbash and install ipykernel from within that environment.  \n",
    "`conda install -n python_env ipykernel`"
   ]
  },
  {
   "cell_type": "markdown",
   "id": "5c717c48-b024-48c6-8e84-92feaa811eab",
   "metadata": {
    "tags": []
   },
   "source": [
    "### Faster loading of R environments"
   ]
  },
  {
   "cell_type": "markdown",
   "id": "9350c897-bb9d-4fed-8302-90b039abe96e",
   "metadata": {},
   "source": [
    "Initializing a Conda R environment for the first time can be time consuming. As a workaround, run the following code in sequential order from your base environment in Gitbash:\n",
    "\n",
    "`conda update -n base conda`  \n",
    "`conda install -n base conda-libmamba-solver`  \n",
    "`conda config --set solver libmamba`\n",
    "\n",
    "Now you should be able to set up an environment from a .yml file faster."
   ]
  },
  {
   "cell_type": "markdown",
   "id": "6d870b63-46af-4820-8418-f10f30170959",
   "metadata": {},
   "source": [
    "Source: See response from [Mike Battaglie](https://stackoverflow.com/questions/53250933/conda-takes-20-minutes-to-solve-environment-when-package-is-already-installed)  \n",
    "*Conda will make this the default mvoing forward so this will hopefully not be necessary soon*"
   ]
  },
  {
   "cell_type": "code",
   "execution_count": null,
   "id": "126ab850-c64f-4255-8ead-595fc5a1fd02",
   "metadata": {},
   "outputs": [],
   "source": []
  }
 ],
 "metadata": {
  "kernelspec": {
   "display_name": "Python 3 (ipykernel)",
   "language": "python",
   "name": "python3"
  },
  "language_info": {
   "codemirror_mode": {
    "name": "ipython",
    "version": 3
   },
   "file_extension": ".py",
   "mimetype": "text/x-python",
   "name": "python",
   "nbconvert_exporter": "python",
   "pygments_lexer": "ipython3",
   "version": "3.7.12"
  }
 },
 "nbformat": 4,
 "nbformat_minor": 5
}
